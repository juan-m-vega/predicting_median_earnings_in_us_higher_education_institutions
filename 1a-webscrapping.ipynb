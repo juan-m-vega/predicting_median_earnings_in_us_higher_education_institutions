{
 "cells": [
  {
   "cell_type": "markdown",
   "metadata": {},
   "source": [
    "## <center> Web-scrapping of higher education institution data"
   ]
  },
  {
   "cell_type": "markdown",
   "metadata": {},
   "source": [
    "This program is written to web-scrape data of higher education institutions from Niche, a website that publishes higher education rankings. The data webscrapped is as of March 23, 2022. These data will be used to explore features that make up this ranking and that may have a relationship with the median earnings post graduation feature considered in this analysis. Institutions that rank more highly in this ranking, on average, are expected to have higher median earnings post graduation under the assumption that a higher ranking implies higher educational quality.\n",
    "\n",
    "Below is an image of a Niche web page and the publicly available data that is web-scrapped using this program.\n",
    "\n",
    "Features web-scrapped include:\n",
    "* Institution ranking\n",
    "* Institution name\n",
    "* Number of reviews\n",
    "* User review score (from 1-5)\n",
    "* Featured student review\n",
    "* Overall Niche Grade\n",
    "* Student acceptance rate\n",
    "* Net price\n",
    "* SAT range"
   ]
  },
  {
   "cell_type": "markdown",
   "metadata": {},
   "source": [
    "![image](./assets/mit.png)"
   ]
  },
  {
   "cell_type": "markdown",
   "metadata": {},
   "source": [
    "### Import libraries"
   ]
  },
  {
   "cell_type": "code",
   "execution_count": 1,
   "metadata": {},
   "outputs": [],
   "source": [
    "import schedule\n",
    "from datetime import time\n",
    "from time import sleep\n",
    "import requests\n",
    "from bs4 import BeautifulSoup\n",
    "\n",
    "from selenium import webdriver\n",
    "from selenium.webdriver.chrome.service import Service\n",
    "from selenium.webdriver.common.keys import Keys\n",
    "from selenium.webdriver.common.by import By\n",
    "\n",
    "import pandas as pd\n",
    "import numpy as np\n",
    "import os\n",
    "import sqlite3\n",
    "\n",
    "import spacy\n",
    "from spacytextblob.spacytextblob import SpacyTextBlob"
   ]
  },
  {
   "cell_type": "markdown",
   "metadata": {},
   "source": [
    "### Scrape the required data from the Niche Best Colleges page"
   ]
  },
  {
   "cell_type": "markdown",
   "metadata": {},
   "source": [
    "Perform the following operations:\n",
    "* Set up lists as containers that will store the scrapped data\n",
    "* Set up a Chrome webdriver to access the page that will scrapped\n",
    "* Iterate through 33 URLs found on the Niche's [Best Colleges](https://www.niche.com/colleges/search/best-colleges/) page.\n",
    "* Scrapped data only of institutions that have `search-result-badge`, `search-result-feature__author`, `search-result-feature__teaser`, and `search-result-fact-list` attributes, or the data intended to be web-scrapped\n",
    "* Use list comprehensions to clean the data within each loop iteration"
   ]
  },
  {
   "cell_type": "code",
   "execution_count": 2,
   "metadata": {},
   "outputs": [],
   "source": [
    "ranks = []\n",
    "stu_reviews = []\n",
    "stu_review_cnt = []\n",
    "stu_ratings = []\n",
    "niche_grades = []\n",
    "inst_facts = []"
   ]
  },
  {
   "cell_type": "code",
   "execution_count": 3,
   "metadata": {},
   "outputs": [],
   "source": [
    "for i in range(1,34):\n",
    "    ser = Service('chromedriver/chromedriver')\n",
    "    op = webdriver.ChromeOptions()\n",
    "    driver = webdriver.Chrome(service=ser, options=op)\n",
    "\n",
    "    driver.maximize_window()\n",
    "    URL = f'https://www.niche.com/colleges/search/best-colleges/?page={i}'\n",
    "    driver.get(URL)\n",
    "\n",
    "    html = driver.page_source\n",
    "    soup = BeautifulSoup(html)\n",
    "\n",
    "    try:\n",
    "        # Get data of ranked institutions\n",
    "        cards = [x for x in soup.findAll('div', {'class':'card__inner'}) if 'search-result-badge' in str(x) and\n",
    "                'search-result-feature__author' in str(x) and 'search-result-feature__teaser' in str(x) and \n",
    "                'search-result-fact-list' in str(x)]\n",
    "\n",
    "        # Get names of ranked institutions\n",
    "        names = [str(name).split('\"search-result__title\">')[1].split('<')[0] for name in cards]\n",
    "\n",
    "        # Get rankings of ranked institutions\n",
    "        rankings = [str(ranking).split('search-result-badge\">')[1].split('<')[0] for ranking in cards]\n",
    "\n",
    "        [ranks.append((name,rank)) for name,rank in zip(names,rankings)]\n",
    "\n",
    "        # Get featured student reviews of ranked institutions\n",
    "        reviews = [str(review).split('\"search-result-feature__author\">')[1].split('</strong>\\xa0<span>')[1].\\\n",
    "                   replace('</span>','').replace('<span>','').replace('<span class=\"a11y-hide-when-needed\">','').\\\n",
    "                   replace(\"\\\\\",\"\").split('<span class=')[0].replace(\"\\\\\",'') for review in cards]\n",
    "        \n",
    "        [stu_reviews.append((name,review)) for name,review in zip(names,reviews)]\n",
    "\n",
    "        # Get number of reviews\n",
    "        review_cnt = [str(count).split('<!-- --> <!-- -->Reviews</span>')[0].split('Read <!-- -->')[1] \n",
    "                      for count in cards]\n",
    "\n",
    "        [stu_review_cnt.append((name,review_num)) for name,review_num in zip(names,review_cnt)]\n",
    "        \n",
    "        # Get the ratings per institution\n",
    "        ratings = [str(rating).split('Rating <!-- -->')[1].split('<!-- --> out of')[0] for rating in cards]\n",
    "        \n",
    "        [stu_ratings.append((name,rating)) for name,rating in zip(names,ratings)]\n",
    "\n",
    "        # Get the grade-level per institution assigned by Niche\n",
    "        grades = [str(grade).split('Overall Niche Grade')[2].split('<!-- -->: <!-- -->')[1].split('<!-- -->')[0] \n",
    "                  for grade in cards]\n",
    "\n",
    "        [niche_grades.append((name,grade)) for name,grade in zip(names,grades)]\n",
    "        \n",
    "        # Get the facts data and labels\n",
    "        facts = [str(str(fact).split('Overall Niche Grade')[2].split('</p><p>')[1:]).replace('<!-- -->','').\\\n",
    "                 replace('</p></div></div>','').replace(',','').replace('[','').replace(']','').replace(\"' '\",', ')\n",
    "                 for fact in cards]\n",
    "        \n",
    "        [inst_facts.append((name,fact)) for name,fact in zip(names,facts)]\n",
    "        \n",
    "        if len(cards) == 0:\n",
    "            print(\"Page number not scrapped:\", i)\n",
    "        \n",
    "    except:\n",
    "        ranks.append('No value')\n",
    "        stu_reviews.append('No value')\n",
    "        stu_review_cnt.append('No value')\n",
    "        stu_ratings.append('No value')\n",
    "        niche_grades.append('No value')\n",
    "        inst_facts.append('No value')\n",
    "\n",
    "    driver.close()\n",
    "    sleep(150)"
   ]
  },
  {
   "cell_type": "markdown",
   "metadata": {},
   "source": [
    "Verify that all list containers are of the same length."
   ]
  },
  {
   "cell_type": "code",
   "execution_count": 4,
   "metadata": {},
   "outputs": [],
   "source": [
    "assert len(ranks) == len(stu_reviews) == len(stu_review_cnt) == len(stu_ratings) == len(niche_grades) \\\n",
    "    == len(inst_facts)"
   ]
  },
  {
   "cell_type": "markdown",
   "metadata": {},
   "source": [
    "### Save webscrapped data"
   ]
  },
  {
   "cell_type": "markdown",
   "metadata": {},
   "source": [
    "In the following function, create a data frame of the institution name and the web-scrapped data. Use this function to merge all feature-specific data frames into one data frame."
   ]
  },
  {
   "cell_type": "code",
   "execution_count": 5,
   "metadata": {},
   "outputs": [],
   "source": [
    "def create_df(lister,name):\n",
    "    df = pd.DataFrame([i[0] for i in lister],[i[1] for i in lister], columns = ['instnm'])\n",
    "    df.reset_index(inplace = True)\n",
    "    df.rename(columns={'index':name}, inplace = True)\n",
    "    \n",
    "    return df"
   ]
  },
  {
   "cell_type": "code",
   "execution_count": 6,
   "metadata": {},
   "outputs": [],
   "source": [
    "df = create_df(ranks,'ranks').merge(create_df(stu_reviews,'stu_reviews'), how = 'outer', on = 'instnm').\\\n",
    "    merge(create_df(stu_review_cnt,'stu_review_cnt'), how = 'outer', on = 'instnm').\\\n",
    "    merge(create_df(stu_ratings,'stu_ratings'), how = 'outer', on = 'instnm').\\\n",
    "    merge(create_df(niche_grades,'niche_grades'), how = 'outer', on = 'instnm').\\\n",
    "    merge(create_df(inst_facts,'inst_facts'), how = 'outer', on = 'instnm')"
   ]
  },
  {
   "cell_type": "code",
   "execution_count": 7,
   "metadata": {},
   "outputs": [],
   "source": [
    "df.drop_duplicates(subset = ['instnm'], inplace = True)"
   ]
  },
  {
   "cell_type": "markdown",
   "metadata": {},
   "source": [
    "Compute the polarity and subjectivity of student reviews to identify potential reasons for positive and negative reviews and whether they relate to graduate wages post graduation."
   ]
  },
  {
   "cell_type": "code",
   "execution_count": 8,
   "metadata": {},
   "outputs": [
    {
     "data": {
      "text/plain": [
       "<spacytextblob.spacytextblob.SpacyTextBlob at 0x7fd9188dadd0>"
      ]
     },
     "execution_count": 8,
     "metadata": {},
     "output_type": "execute_result"
    }
   ],
   "source": [
    "nlp = spacy.load('en_core_web_sm')\n",
    "nlp.add_pipe('spacytextblob')"
   ]
  },
  {
   "cell_type": "code",
   "execution_count": 9,
   "metadata": {},
   "outputs": [],
   "source": [
    "df['review_polarity'] = [nlp(review)._.polarity for review in df.stu_reviews]"
   ]
  },
  {
   "cell_type": "code",
   "execution_count": 10,
   "metadata": {},
   "outputs": [],
   "source": [
    "df['review_subjectivity'] = [nlp(review)._.subjectivity for review in df.stu_reviews]"
   ]
  },
  {
   "cell_type": "markdown",
   "metadata": {},
   "source": [
    "### Create a SQLite database to store the data"
   ]
  },
  {
   "cell_type": "code",
   "execution_count": 11,
   "metadata": {},
   "outputs": [],
   "source": [
    "sqlite_db = './data/webscrapping_profile_feats.sqlite'\n",
    "conn = sqlite3.connect(sqlite_db)"
   ]
  },
  {
   "cell_type": "code",
   "execution_count": 12,
   "metadata": {},
   "outputs": [],
   "source": [
    "df.to_sql('niche_webscrapping',\n",
    "            con=conn,\n",
    "            if_exists='replace',\n",
    "            index=False)"
   ]
  },
  {
   "cell_type": "markdown",
   "metadata": {},
   "source": [
    "### Display the first five rows of the data frame"
   ]
  },
  {
   "cell_type": "code",
   "execution_count": 13,
   "metadata": {},
   "outputs": [
    {
     "data": {
      "text/html": [
       "<div>\n",
       "<style scoped>\n",
       "    .dataframe tbody tr th:only-of-type {\n",
       "        vertical-align: middle;\n",
       "    }\n",
       "\n",
       "    .dataframe tbody tr th {\n",
       "        vertical-align: top;\n",
       "    }\n",
       "\n",
       "    .dataframe thead th {\n",
       "        text-align: right;\n",
       "    }\n",
       "</style>\n",
       "<table border=\"1\" class=\"dataframe\">\n",
       "  <thead>\n",
       "    <tr style=\"text-align: right;\">\n",
       "      <th></th>\n",
       "      <th>ranks</th>\n",
       "      <th>instnm</th>\n",
       "      <th>stu_reviews</th>\n",
       "      <th>stu_review_cnt</th>\n",
       "      <th>stu_ratings</th>\n",
       "      <th>niche_grades</th>\n",
       "      <th>inst_facts</th>\n",
       "      <th>review_polarity</th>\n",
       "      <th>review_subjectivity</th>\n",
       "    </tr>\n",
       "  </thead>\n",
       "  <tbody>\n",
       "    <tr>\n",
       "      <th>0</th>\n",
       "      <td>#1 Best Colleges in America</td>\n",
       "      <td>Massachusetts Institute of Technology</td>\n",
       "      <td>Currently reaching near the middle of my time ...</td>\n",
       "      <td>640</td>\n",
       "      <td>4.13</td>\n",
       "      <td>A+</td>\n",
       "      <td>'Acceptance Rate: 7%, Net Price: $19998, SAT R...</td>\n",
       "      <td>0.126652</td>\n",
       "      <td>0.633135</td>\n",
       "    </tr>\n",
       "    <tr>\n",
       "      <th>1</th>\n",
       "      <td>#2 Best Colleges in America</td>\n",
       "      <td>Harvard University</td>\n",
       "      <td>Make sure to do your research before deciding ...</td>\n",
       "      <td>772</td>\n",
       "      <td>4.12</td>\n",
       "      <td>A+</td>\n",
       "      <td>'Acceptance Rate: 5%, Net Price: $18037, SAT R...</td>\n",
       "      <td>0.208333</td>\n",
       "      <td>0.592187</td>\n",
       "    </tr>\n",
       "    <tr>\n",
       "      <th>2</th>\n",
       "      <td>#3 Best Colleges in America</td>\n",
       "      <td>Stanford University</td>\n",
       "      <td>Now, 60+ years after a Stanford BSME, I am ast...</td>\n",
       "      <td>1,216</td>\n",
       "      <td>4.08</td>\n",
       "      <td>A+</td>\n",
       "      <td>'Acceptance Rate: 4%, Net Price: $20023, SAT R...</td>\n",
       "      <td>0.412500</td>\n",
       "      <td>0.556250</td>\n",
       "    </tr>\n",
       "    <tr>\n",
       "      <th>3</th>\n",
       "      <td>#4 Best Colleges in America</td>\n",
       "      <td>Yale University</td>\n",
       "      <td>Yale is an amazing school! The professors and ...</td>\n",
       "      <td>1,004</td>\n",
       "      <td>3.99</td>\n",
       "      <td>A+</td>\n",
       "      <td>'Acceptance Rate: 6%, Net Price: $17511, SAT R...</td>\n",
       "      <td>0.322500</td>\n",
       "      <td>0.650833</td>\n",
       "    </tr>\n",
       "    <tr>\n",
       "      <th>4</th>\n",
       "      <td>#5 Best Colleges in America</td>\n",
       "      <td>Princeton University</td>\n",
       "      <td>The courses, faculty, resources, and community...</td>\n",
       "      <td>445</td>\n",
       "      <td>3.96</td>\n",
       "      <td>A+</td>\n",
       "      <td>'Acceptance Rate: 6%, Net Price: $18685, SAT R...</td>\n",
       "      <td>0.295833</td>\n",
       "      <td>0.522917</td>\n",
       "    </tr>\n",
       "  </tbody>\n",
       "</table>\n",
       "</div>"
      ],
      "text/plain": [
       "                         ranks                                 instnm  \\\n",
       "0  #1 Best Colleges in America  Massachusetts Institute of Technology   \n",
       "1  #2 Best Colleges in America                     Harvard University   \n",
       "2  #3 Best Colleges in America                    Stanford University   \n",
       "3  #4 Best Colleges in America                        Yale University   \n",
       "4  #5 Best Colleges in America                   Princeton University   \n",
       "\n",
       "                                         stu_reviews stu_review_cnt  \\\n",
       "0  Currently reaching near the middle of my time ...            640   \n",
       "1  Make sure to do your research before deciding ...            772   \n",
       "2  Now, 60+ years after a Stanford BSME, I am ast...          1,216   \n",
       "3  Yale is an amazing school! The professors and ...          1,004   \n",
       "4  The courses, faculty, resources, and community...            445   \n",
       "\n",
       "  stu_ratings niche_grades                                         inst_facts  \\\n",
       "0        4.13           A+  'Acceptance Rate: 7%, Net Price: $19998, SAT R...   \n",
       "1        4.12           A+  'Acceptance Rate: 5%, Net Price: $18037, SAT R...   \n",
       "2        4.08           A+  'Acceptance Rate: 4%, Net Price: $20023, SAT R...   \n",
       "3        3.99           A+  'Acceptance Rate: 6%, Net Price: $17511, SAT R...   \n",
       "4        3.96           A+  'Acceptance Rate: 6%, Net Price: $18685, SAT R...   \n",
       "\n",
       "   review_polarity  review_subjectivity  \n",
       "0         0.126652             0.633135  \n",
       "1         0.208333             0.592187  \n",
       "2         0.412500             0.556250  \n",
       "3         0.322500             0.650833  \n",
       "4         0.295833             0.522917  "
      ]
     },
     "execution_count": 13,
     "metadata": {},
     "output_type": "execute_result"
    }
   ],
   "source": [
    "sql = \"\"\"\n",
    "SELECT *\n",
    "FROM niche_webscrapping\n",
    "LIMIT 5\n",
    "\"\"\"\n",
    "\n",
    "pd.read_sql(sql, con = conn)"
   ]
  },
  {
   "cell_type": "markdown",
   "metadata": {},
   "source": [
    "#### Return the total number of institutions with data webscrapped"
   ]
  },
  {
   "cell_type": "code",
   "execution_count": 14,
   "metadata": {},
   "outputs": [
    {
     "data": {
      "text/html": [
       "<div>\n",
       "<style scoped>\n",
       "    .dataframe tbody tr th:only-of-type {\n",
       "        vertical-align: middle;\n",
       "    }\n",
       "\n",
       "    .dataframe tbody tr th {\n",
       "        vertical-align: top;\n",
       "    }\n",
       "\n",
       "    .dataframe thead th {\n",
       "        text-align: right;\n",
       "    }\n",
       "</style>\n",
       "<table border=\"1\" class=\"dataframe\">\n",
       "  <thead>\n",
       "    <tr style=\"text-align: right;\">\n",
       "      <th></th>\n",
       "      <th>Total number of institutions</th>\n",
       "    </tr>\n",
       "  </thead>\n",
       "  <tbody>\n",
       "    <tr>\n",
       "      <th>0</th>\n",
       "      <td>820</td>\n",
       "    </tr>\n",
       "  </tbody>\n",
       "</table>\n",
       "</div>"
      ],
      "text/plain": [
       "   Total number of institutions\n",
       "0                           820"
      ]
     },
     "execution_count": 14,
     "metadata": {},
     "output_type": "execute_result"
    }
   ],
   "source": [
    "sql = \"\"\"\n",
    "SELECT COUNT(*) AS 'Total number of institutions'\n",
    "FROM niche_webscrapping\n",
    "LIMIT 5\n",
    "\"\"\"\n",
    "\n",
    "pd.read_sql(sql, con = conn)"
   ]
  },
  {
   "cell_type": "markdown",
   "metadata": {},
   "source": [
    "#### Return the highest and lowest review ratings for these institutions"
   ]
  },
  {
   "cell_type": "code",
   "execution_count": 15,
   "metadata": {},
   "outputs": [
    {
     "data": {
      "text/html": [
       "<div>\n",
       "<style scoped>\n",
       "    .dataframe tbody tr th:only-of-type {\n",
       "        vertical-align: middle;\n",
       "    }\n",
       "\n",
       "    .dataframe tbody tr th {\n",
       "        vertical-align: top;\n",
       "    }\n",
       "\n",
       "    .dataframe thead th {\n",
       "        text-align: right;\n",
       "    }\n",
       "</style>\n",
       "<table border=\"1\" class=\"dataframe\">\n",
       "  <thead>\n",
       "    <tr style=\"text-align: right;\">\n",
       "      <th></th>\n",
       "      <th>instnm</th>\n",
       "      <th>Maximum student rating</th>\n",
       "    </tr>\n",
       "  </thead>\n",
       "  <tbody>\n",
       "    <tr>\n",
       "      <th>0</th>\n",
       "      <td>Everglades University</td>\n",
       "      <td>4.63</td>\n",
       "    </tr>\n",
       "    <tr>\n",
       "      <th>1</th>\n",
       "      <td>The Christ College of Nursing &amp;amp; Health Sci...</td>\n",
       "      <td>4.34</td>\n",
       "    </tr>\n",
       "    <tr>\n",
       "      <th>2</th>\n",
       "      <td>Pomona College</td>\n",
       "      <td>4.22</td>\n",
       "    </tr>\n",
       "    <tr>\n",
       "      <th>3</th>\n",
       "      <td>Wabash College</td>\n",
       "      <td>4.15</td>\n",
       "    </tr>\n",
       "    <tr>\n",
       "      <th>4</th>\n",
       "      <td>Massachusetts Institute of Technology</td>\n",
       "      <td>4.13</td>\n",
       "    </tr>\n",
       "  </tbody>\n",
       "</table>\n",
       "</div>"
      ],
      "text/plain": [
       "                                              instnm Maximum student rating\n",
       "0                              Everglades University                   4.63\n",
       "1  The Christ College of Nursing &amp; Health Sci...                   4.34\n",
       "2                                     Pomona College                   4.22\n",
       "3                                     Wabash College                   4.15\n",
       "4              Massachusetts Institute of Technology                   4.13"
      ]
     },
     "execution_count": 15,
     "metadata": {},
     "output_type": "execute_result"
    }
   ],
   "source": [
    "sql = \"\"\"\n",
    "SELECT instnm, \n",
    "    MAX(stu_ratings) AS 'Maximum student rating'\n",
    "FROM niche_webscrapping\n",
    "GROUP BY instnm\n",
    "ORDER BY MAX(stu_ratings) DESC\n",
    "LIMIT 5\n",
    "\"\"\"\n",
    "\n",
    "pd.read_sql(sql, con = conn)"
   ]
  },
  {
   "cell_type": "code",
   "execution_count": 16,
   "metadata": {},
   "outputs": [
    {
     "data": {
      "text/html": [
       "<div>\n",
       "<style scoped>\n",
       "    .dataframe tbody tr th:only-of-type {\n",
       "        vertical-align: middle;\n",
       "    }\n",
       "\n",
       "    .dataframe tbody tr th {\n",
       "        vertical-align: top;\n",
       "    }\n",
       "\n",
       "    .dataframe thead th {\n",
       "        text-align: right;\n",
       "    }\n",
       "</style>\n",
       "<table border=\"1\" class=\"dataframe\">\n",
       "  <thead>\n",
       "    <tr style=\"text-align: right;\">\n",
       "      <th></th>\n",
       "      <th>instnm</th>\n",
       "      <th>Minimum student rating</th>\n",
       "    </tr>\n",
       "  </thead>\n",
       "  <tbody>\n",
       "    <tr>\n",
       "      <th>0</th>\n",
       "      <td>Massachusetts Maritime Academy</td>\n",
       "      <td>2.98</td>\n",
       "    </tr>\n",
       "    <tr>\n",
       "      <th>1</th>\n",
       "      <td>California State University - Maritime Academy</td>\n",
       "      <td>3.05</td>\n",
       "    </tr>\n",
       "    <tr>\n",
       "      <th>2</th>\n",
       "      <td>University of Mary Washington</td>\n",
       "      <td>3.09</td>\n",
       "    </tr>\n",
       "    <tr>\n",
       "      <th>3</th>\n",
       "      <td>Maine Maritime Academy</td>\n",
       "      <td>3.15</td>\n",
       "    </tr>\n",
       "    <tr>\n",
       "      <th>4</th>\n",
       "      <td>Berea College</td>\n",
       "      <td>3.24</td>\n",
       "    </tr>\n",
       "  </tbody>\n",
       "</table>\n",
       "</div>"
      ],
      "text/plain": [
       "                                           instnm Minimum student rating\n",
       "0                  Massachusetts Maritime Academy                   2.98\n",
       "1  California State University - Maritime Academy                   3.05\n",
       "2                   University of Mary Washington                   3.09\n",
       "3                          Maine Maritime Academy                   3.15\n",
       "4                                   Berea College                   3.24"
      ]
     },
     "execution_count": 16,
     "metadata": {},
     "output_type": "execute_result"
    }
   ],
   "source": [
    "sql = \"\"\"\n",
    "SELECT instnm, \n",
    "    MIN(stu_ratings) AS 'Minimum student rating'\n",
    "FROM niche_webscrapping\n",
    "GROUP BY instnm\n",
    "ORDER BY MIN(stu_ratings) ASC\n",
    "LIMIT 5\n",
    "\"\"\"\n",
    "\n",
    "pd.read_sql(sql, con = conn)"
   ]
  },
  {
   "cell_type": "markdown",
   "metadata": {},
   "source": [
    "### Present the reviews with the highest and lowest polarity"
   ]
  },
  {
   "cell_type": "code",
   "execution_count": 17,
   "metadata": {},
   "outputs": [
    {
     "data": {
      "text/html": [
       "<div>\n",
       "<style scoped>\n",
       "    .dataframe tbody tr th:only-of-type {\n",
       "        vertical-align: middle;\n",
       "    }\n",
       "\n",
       "    .dataframe tbody tr th {\n",
       "        vertical-align: top;\n",
       "    }\n",
       "\n",
       "    .dataframe thead th {\n",
       "        text-align: right;\n",
       "    }\n",
       "</style>\n",
       "<table border=\"1\" class=\"dataframe\">\n",
       "  <thead>\n",
       "    <tr style=\"text-align: right;\">\n",
       "      <th></th>\n",
       "      <th>instnm</th>\n",
       "      <th>Minimum student polarity</th>\n",
       "    </tr>\n",
       "  </thead>\n",
       "  <tbody>\n",
       "    <tr>\n",
       "      <th>0</th>\n",
       "      <td>University of Cincinnati</td>\n",
       "      <td>-0.440635</td>\n",
       "    </tr>\n",
       "    <tr>\n",
       "      <th>1</th>\n",
       "      <td>Berea College</td>\n",
       "      <td>-0.090046</td>\n",
       "    </tr>\n",
       "    <tr>\n",
       "      <th>2</th>\n",
       "      <td>Christian Brothers University</td>\n",
       "      <td>-0.089590</td>\n",
       "    </tr>\n",
       "    <tr>\n",
       "      <th>3</th>\n",
       "      <td>Buena Vista University</td>\n",
       "      <td>-0.030377</td>\n",
       "    </tr>\n",
       "    <tr>\n",
       "      <th>4</th>\n",
       "      <td>SUNY College of Environmental Science &amp;amp; Fo...</td>\n",
       "      <td>-0.003287</td>\n",
       "    </tr>\n",
       "  </tbody>\n",
       "</table>\n",
       "</div>"
      ],
      "text/plain": [
       "                                              instnm  Minimum student polarity\n",
       "0                           University of Cincinnati                 -0.440635\n",
       "1                                      Berea College                 -0.090046\n",
       "2                      Christian Brothers University                 -0.089590\n",
       "3                             Buena Vista University                 -0.030377\n",
       "4  SUNY College of Environmental Science &amp; Fo...                 -0.003287"
      ]
     },
     "execution_count": 17,
     "metadata": {},
     "output_type": "execute_result"
    }
   ],
   "source": [
    "sql = \"\"\"\n",
    "SELECT instnm, \n",
    "    MIN(review_polarity) AS 'Minimum student polarity'\n",
    "FROM niche_webscrapping\n",
    "GROUP BY instnm\n",
    "ORDER BY MIN(review_polarity) ASC\n",
    "LIMIT 5\n",
    "\"\"\"\n",
    "\n",
    "pd.read_sql(sql, con = conn)"
   ]
  },
  {
   "cell_type": "code",
   "execution_count": 18,
   "metadata": {},
   "outputs": [
    {
     "data": {
      "text/html": [
       "<div>\n",
       "<style scoped>\n",
       "    .dataframe tbody tr th:only-of-type {\n",
       "        vertical-align: middle;\n",
       "    }\n",
       "\n",
       "    .dataframe tbody tr th {\n",
       "        vertical-align: top;\n",
       "    }\n",
       "\n",
       "    .dataframe thead th {\n",
       "        text-align: right;\n",
       "    }\n",
       "</style>\n",
       "<table border=\"1\" class=\"dataframe\">\n",
       "  <thead>\n",
       "    <tr style=\"text-align: right;\">\n",
       "      <th></th>\n",
       "      <th>instnm</th>\n",
       "      <th>Maximum student polarity</th>\n",
       "    </tr>\n",
       "  </thead>\n",
       "  <tbody>\n",
       "    <tr>\n",
       "      <th>0</th>\n",
       "      <td>Martin Luther College</td>\n",
       "      <td>0.779167</td>\n",
       "    </tr>\n",
       "    <tr>\n",
       "      <th>1</th>\n",
       "      <td>University of Evansville</td>\n",
       "      <td>0.741667</td>\n",
       "    </tr>\n",
       "    <tr>\n",
       "      <th>2</th>\n",
       "      <td>University of Wisconsin - Superior</td>\n",
       "      <td>0.712500</td>\n",
       "    </tr>\n",
       "    <tr>\n",
       "      <th>3</th>\n",
       "      <td>Franciscan Missionaries of Our Lady University</td>\n",
       "      <td>0.690000</td>\n",
       "    </tr>\n",
       "    <tr>\n",
       "      <th>4</th>\n",
       "      <td>Walsh University</td>\n",
       "      <td>0.687500</td>\n",
       "    </tr>\n",
       "  </tbody>\n",
       "</table>\n",
       "</div>"
      ],
      "text/plain": [
       "                                           instnm  Maximum student polarity\n",
       "0                           Martin Luther College                  0.779167\n",
       "1                        University of Evansville                  0.741667\n",
       "2              University of Wisconsin - Superior                  0.712500\n",
       "3  Franciscan Missionaries of Our Lady University                  0.690000\n",
       "4                                Walsh University                  0.687500"
      ]
     },
     "execution_count": 18,
     "metadata": {},
     "output_type": "execute_result"
    }
   ],
   "source": [
    "sql = \"\"\"\n",
    "SELECT instnm, \n",
    "    MAX(review_polarity) AS 'Maximum student polarity'\n",
    "FROM niche_webscrapping\n",
    "GROUP BY instnm\n",
    "ORDER BY MAX(review_polarity) DESC\n",
    "LIMIT 5\n",
    "\"\"\"\n",
    "\n",
    "pd.read_sql(sql, con = conn)"
   ]
  },
  {
   "cell_type": "markdown",
   "metadata": {},
   "source": [
    "Prestigious institutions such as Massachussets Institute of Technology are among the institutions with the highest polarity and favorable reviews. Explore student reviews and the ranking and its underlying variables to identify which are related to better post graduation wages in the next step of the analysis (notebook 1b). "
   ]
  }
 ],
 "metadata": {
  "kernelspec": {
   "display_name": "Python 3",
   "language": "python",
   "name": "python3"
  },
  "language_info": {
   "codemirror_mode": {
    "name": "ipython",
    "version": 3
   },
   "file_extension": ".py",
   "mimetype": "text/x-python",
   "name": "python",
   "nbconvert_exporter": "python",
   "pygments_lexer": "ipython3",
   "version": "3.7.4"
  }
 },
 "nbformat": 4,
 "nbformat_minor": 2
}
