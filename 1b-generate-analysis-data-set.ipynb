{
 "cells": [
  {
   "cell_type": "markdown",
   "metadata": {},
   "source": [
    "## <center> Creating data source for exploratory data analysis (EDA) and modeling\n",
    "\n",
    "This notebook will combine multiple data sources to produce EDA and model the outcome variables. The following are the data sources used in this notebook:\n",
    "\n",
    "|Data Source | Description|\n",
    "|:---|:---|\n",
    "|[College Scorecard](https://data.ed.gov/dataset/college-scorecard-all-data-files)|  A data set produced by the U.S. Department of Education with facts about higher education institutions including graduation rates, median earnings post graduation, total student enrollment, and more.|\n",
    "|[Integrated Post Secondary Database System](https://nces.ed.gov/ipeds/datacenter/DataFiles.aspx?year=-1)| A database of higher education institution and student attributes.|\n",
    "|[Higher Education Research and Development (HERD) expenditures survey](https://www.nsf.gov/statistics/srvyherd/)| A dataset of research and development expenditures conducted by the National Science Foundation annually|\n",
    "|[Niche](https://www.niche.com/colleges/search/best-colleges/)| A website containing higher education institution facts and other attributes.|"
   ]
  },
  {
   "cell_type": "markdown",
   "metadata": {},
   "source": [
    "### Import libraries"
   ]
  },
  {
   "cell_type": "code",
   "execution_count": 1,
   "metadata": {},
   "outputs": [],
   "source": [
    "import pandas as pd\n",
    "import numpy as np\n",
    "import seaborn as sns\n",
    "import matplotlib.pyplot as plt\n",
    "import matplotlib.ticker as ticker\n",
    "\n",
    "import os\n",
    "import sqlite3"
   ]
  },
  {
   "cell_type": "markdown",
   "metadata": {},
   "source": [
    "This notebook will combine multiple data sources into one final data set that will be used for EDA and modeling. The following steps are used in the process:\n",
    "* Ingest the College Scorecard post graduation wages data for the 2008-2009 academic year measured in 2014-2015\n",
    "* As a first alternative to missing data imputation, substitute missing data with previous years' data from the College Scorecard."
   ]
  },
  {
   "cell_type": "markdown",
   "metadata": {},
   "source": [
    "Ingest the 2014-2015 earnings data and merge with the institutional characteristics from academic year 2008-2009."
   ]
  },
  {
   "cell_type": "code",
   "execution_count": 2,
   "metadata": {},
   "outputs": [
    {
     "data": {
      "text/html": [
       "<div>\n",
       "<style scoped>\n",
       "    .dataframe tbody tr th:only-of-type {\n",
       "        vertical-align: middle;\n",
       "    }\n",
       "\n",
       "    .dataframe tbody tr th {\n",
       "        vertical-align: top;\n",
       "    }\n",
       "\n",
       "    .dataframe thead th {\n",
       "        text-align: right;\n",
       "    }\n",
       "</style>\n",
       "<table border=\"1\" class=\"dataframe\">\n",
       "  <thead>\n",
       "    <tr style=\"text-align: right;\">\n",
       "      <th></th>\n",
       "      <th>unitid</th>\n",
       "      <th>md_earn_wne_p6</th>\n",
       "    </tr>\n",
       "  </thead>\n",
       "  <tbody>\n",
       "    <tr>\n",
       "      <th>0</th>\n",
       "      <td>100654</td>\n",
       "      <td>25200</td>\n",
       "    </tr>\n",
       "    <tr>\n",
       "      <th>1</th>\n",
       "      <td>100663</td>\n",
       "      <td>35100</td>\n",
       "    </tr>\n",
       "    <tr>\n",
       "      <th>2</th>\n",
       "      <td>100690</td>\n",
       "      <td>30700</td>\n",
       "    </tr>\n",
       "  </tbody>\n",
       "</table>\n",
       "</div>"
      ],
      "text/plain": [
       "   unitid md_earn_wne_p6\n",
       "0  100654          25200\n",
       "1  100663          35100\n",
       "2  100690          30700"
      ]
     },
     "execution_count": 2,
     "metadata": {},
     "output_type": "execute_result"
    }
   ],
   "source": [
    "cs_1415 = pd.read_csv('./data/MERGED2014_15_PP.csv',usecols=['UNITID','MD_EARN_WNE_P6'])\n",
    "cs_1415.columns = cs_1415.columns.str.lower()\n",
    "cs_1415.head(3)"
   ]
  },
  {
   "cell_type": "code",
   "execution_count": 3,
   "metadata": {},
   "outputs": [
    {
     "data": {
      "text/html": [
       "<div>\n",
       "<style scoped>\n",
       "    .dataframe tbody tr th:only-of-type {\n",
       "        vertical-align: middle;\n",
       "    }\n",
       "\n",
       "    .dataframe tbody tr th {\n",
       "        vertical-align: top;\n",
       "    }\n",
       "\n",
       "    .dataframe thead th {\n",
       "        text-align: right;\n",
       "    }\n",
       "</style>\n",
       "<table border=\"1\" class=\"dataframe\">\n",
       "  <thead>\n",
       "    <tr style=\"text-align: right;\">\n",
       "      <th></th>\n",
       "      <th>unitid</th>\n",
       "      <th>opeid</th>\n",
       "      <th>opeid6</th>\n",
       "      <th>instnm</th>\n",
       "      <th>city</th>\n",
       "      <th>stabbr</th>\n",
       "      <th>zip</th>\n",
       "      <th>accredagency</th>\n",
       "      <th>insturl</th>\n",
       "      <th>npcurl</th>\n",
       "      <th>...</th>\n",
       "      <th>count_wne_male1_p8</th>\n",
       "      <th>md_earn_wne_male1_p8</th>\n",
       "      <th>gt_threshold_p10</th>\n",
       "      <th>md_earn_wne_inc1_p10</th>\n",
       "      <th>md_earn_wne_inc2_p10</th>\n",
       "      <th>md_earn_wne_inc3_p10</th>\n",
       "      <th>md_earn_wne_indep1_p10</th>\n",
       "      <th>md_earn_wne_indep0_p10</th>\n",
       "      <th>md_earn_wne_male0_p10</th>\n",
       "      <th>md_earn_wne_male1_p10</th>\n",
       "    </tr>\n",
       "  </thead>\n",
       "  <tbody>\n",
       "    <tr>\n",
       "      <th>0</th>\n",
       "      <td>100636</td>\n",
       "      <td>01230800</td>\n",
       "      <td>12308</td>\n",
       "      <td>Community College of the Air Force</td>\n",
       "      <td>Montgomery</td>\n",
       "      <td>AL</td>\n",
       "      <td>36114-3011</td>\n",
       "      <td>NaN</td>\n",
       "      <td>NaN</td>\n",
       "      <td>NaN</td>\n",
       "      <td>...</td>\n",
       "      <td>NaN</td>\n",
       "      <td>NaN</td>\n",
       "      <td>NaN</td>\n",
       "      <td>NaN</td>\n",
       "      <td>NaN</td>\n",
       "      <td>NaN</td>\n",
       "      <td>NaN</td>\n",
       "      <td>NaN</td>\n",
       "      <td>NaN</td>\n",
       "      <td>NaN</td>\n",
       "    </tr>\n",
       "    <tr>\n",
       "      <th>1</th>\n",
       "      <td>100654</td>\n",
       "      <td>00100200</td>\n",
       "      <td>1002</td>\n",
       "      <td>Alabama A &amp; M University</td>\n",
       "      <td>Normal</td>\n",
       "      <td>AL</td>\n",
       "      <td>35762</td>\n",
       "      <td>NaN</td>\n",
       "      <td>NaN</td>\n",
       "      <td>NaN</td>\n",
       "      <td>...</td>\n",
       "      <td>NaN</td>\n",
       "      <td>NaN</td>\n",
       "      <td>NaN</td>\n",
       "      <td>NaN</td>\n",
       "      <td>NaN</td>\n",
       "      <td>NaN</td>\n",
       "      <td>NaN</td>\n",
       "      <td>NaN</td>\n",
       "      <td>NaN</td>\n",
       "      <td>NaN</td>\n",
       "    </tr>\n",
       "    <tr>\n",
       "      <th>2</th>\n",
       "      <td>100663</td>\n",
       "      <td>00105200</td>\n",
       "      <td>1052</td>\n",
       "      <td>University of Alabama at Birmingham</td>\n",
       "      <td>Birmingham</td>\n",
       "      <td>AL</td>\n",
       "      <td>35294-0110</td>\n",
       "      <td>NaN</td>\n",
       "      <td>NaN</td>\n",
       "      <td>NaN</td>\n",
       "      <td>...</td>\n",
       "      <td>NaN</td>\n",
       "      <td>NaN</td>\n",
       "      <td>NaN</td>\n",
       "      <td>NaN</td>\n",
       "      <td>NaN</td>\n",
       "      <td>NaN</td>\n",
       "      <td>NaN</td>\n",
       "      <td>NaN</td>\n",
       "      <td>NaN</td>\n",
       "      <td>NaN</td>\n",
       "    </tr>\n",
       "  </tbody>\n",
       "</table>\n",
       "<p>3 rows × 2988 columns</p>\n",
       "</div>"
      ],
      "text/plain": [
       "   unitid     opeid  opeid6                               instnm        city  \\\n",
       "0  100636  01230800   12308   Community College of the Air Force  Montgomery   \n",
       "1  100654  00100200    1002             Alabama A & M University      Normal   \n",
       "2  100663  00105200    1052  University of Alabama at Birmingham  Birmingham   \n",
       "\n",
       "  stabbr         zip  accredagency  insturl  npcurl  ...  count_wne_male1_p8  \\\n",
       "0     AL  36114-3011           NaN      NaN     NaN  ...                 NaN   \n",
       "1     AL       35762           NaN      NaN     NaN  ...                 NaN   \n",
       "2     AL  35294-0110           NaN      NaN     NaN  ...                 NaN   \n",
       "\n",
       "   md_earn_wne_male1_p8  gt_threshold_p10  md_earn_wne_inc1_p10  \\\n",
       "0                   NaN               NaN                   NaN   \n",
       "1                   NaN               NaN                   NaN   \n",
       "2                   NaN               NaN                   NaN   \n",
       "\n",
       "   md_earn_wne_inc2_p10  md_earn_wne_inc3_p10  md_earn_wne_indep1_p10  \\\n",
       "0                   NaN                   NaN                     NaN   \n",
       "1                   NaN                   NaN                     NaN   \n",
       "2                   NaN                   NaN                     NaN   \n",
       "\n",
       "   md_earn_wne_indep0_p10  md_earn_wne_male0_p10  md_earn_wne_male1_p10  \n",
       "0                     NaN                    NaN                    NaN  \n",
       "1                     NaN                    NaN                    NaN  \n",
       "2                     NaN                    NaN                    NaN  \n",
       "\n",
       "[3 rows x 2988 columns]"
      ]
     },
     "execution_count": 3,
     "metadata": {},
     "output_type": "execute_result"
    }
   ],
   "source": [
    "cs_0809 = pd.read_csv('./data/MERGED2008_09_PP.csv',low_memory=False)\n",
    "cs_0809.columns = cs_0809.columns.str.lower()\n",
    "cs_0809.drop('md_earn_wne_p6',axis=1,inplace=True)\n",
    "cs_0809.head(3)"
   ]
  },
  {
   "cell_type": "markdown",
   "metadata": {},
   "source": [
    "After merging both dataframes, the dataset has over 6,000 rows and close to 3,000 columns."
   ]
  },
  {
   "cell_type": "code",
   "execution_count": 4,
   "metadata": {},
   "outputs": [
    {
     "data": {
      "text/plain": [
       "(6177, 2989)"
      ]
     },
     "execution_count": 4,
     "metadata": {},
     "output_type": "execute_result"
    }
   ],
   "source": [
    "df = cs_1415.merge(cs_0809, how = 'left', on = 'unitid', indicator = True)\n",
    "df = df[df['_merge'] == 'both'].drop('_merge',axis=1)\n",
    "df.shape"
   ]
  },
  {
   "cell_type": "markdown",
   "metadata": {},
   "source": [
    "Some features have a very high number of missing observations. Use the last year or previous to last year's data from the College Scorecard to substitute missing data with previous years' data to reduce the degree of missingness in the data."
   ]
  },
  {
   "cell_type": "code",
   "execution_count": 5,
   "metadata": {},
   "outputs": [
    {
     "data": {
      "text/plain": [
       "md_earn_wne_male1_p10       6177\n",
       "bbrr1_fed_ugunk_makeprog    6177\n",
       "dbrr1_pp_ugcomp_rt          6177\n",
       "dbrr1_pp_ugnocomp_n         6177\n",
       "dbrr1_pp_ugnocomp_num       6177\n",
       "dtype: int64"
      ]
     },
     "execution_count": 5,
     "metadata": {},
     "output_type": "execute_result"
    }
   ],
   "source": [
    "df.isnull().sum()[df.isnull().sum()>0].sort_values(ascending = False).head(5)"
   ]
  },
  {
   "cell_type": "code",
   "execution_count": 6,
   "metadata": {},
   "outputs": [
    {
     "data": {
      "text/plain": [
       "10151291"
      ]
     },
     "execution_count": 6,
     "metadata": {},
     "output_type": "execute_result"
    }
   ],
   "source": [
    "df.isnull().sum().sum()"
   ]
  },
  {
   "cell_type": "markdown",
   "metadata": {},
   "source": [
    "Update the data for academic year 2008-2009 with the data from academic year 2007-2008 for features with missing data in academic year 2008-2009. This approach reduces the number of missing values to 9,764,805 across all features and institutions."
   ]
  },
  {
   "cell_type": "code",
   "execution_count": 7,
   "metadata": {},
   "outputs": [],
   "source": [
    "ly_data = pd.read_csv('./data/MERGED2007_08_PP.csv', low_memory=False)\n",
    "ly_data.columns = ly_data.columns.str.lower()\n",
    "ly_data.columns = [col+'_0708' for col in ly_data.columns]\n",
    "ly_data.rename(columns={'unitid_0708':'unitid'}, inplace = True)\n",
    "    \n",
    "df = df.merge(ly_data, how = 'left', on = 'unitid')\n",
    "    \n",
    "for col in df.columns:\n",
    "    if col != 'unitid' and '_0708' not in col:\n",
    "        df[col].fillna(value=df[col+'_0708'],inplace=True)\n",
    "        \n",
    "df.drop(columns=[col for col in df.columns if '_0708' in col], inplace = True)  "
   ]
  },
  {
   "cell_type": "code",
   "execution_count": 8,
   "metadata": {},
   "outputs": [
    {
     "data": {
      "text/plain": [
       "9764805"
      ]
     },
     "execution_count": 8,
     "metadata": {},
     "output_type": "execute_result"
    }
   ],
   "source": [
    "df.isnull().sum().sum()"
   ]
  },
  {
   "cell_type": "markdown",
   "metadata": {},
   "source": [
    "### Apply filters to the College Scorecard data\n",
    "To make the institutions comparable within a heterogenous universe of institutions, apply the following filters:\n",
    "* Remove institutions located in U.S. territories\n",
    "* Remove institutions that do not award degrees\n",
    "* Remove institutions that do not award a Bachelor's or Graduate degree\n",
    "* Remove institutions that are highly specialized in only one field or whose missions may not be aligned with maximizing median earnings post graduation (i.e., Theological seminaries, Bible colleges, and other faith-related institutions)"
   ]
  },
  {
   "cell_type": "code",
   "execution_count": 9,
   "metadata": {},
   "outputs": [],
   "source": [
    "territories = ['AS','FM','GU','MH','MP','PR','PW','VI']\n",
    "df = df[~df.stabbr.isin(territories)]"
   ]
  },
  {
   "cell_type": "code",
   "execution_count": 10,
   "metadata": {},
   "outputs": [],
   "source": [
    "df = df[df.highdeg > 2]"
   ]
  },
  {
   "cell_type": "markdown",
   "metadata": {},
   "source": [
    "Add data of Carnegie Classification of Higher Education Institutions to classify universities by type (i.e., Theological seminaries, Bible colleges, and other faith-related institutions and Medical schools and medical centers, etc.)"
   ]
  },
  {
   "cell_type": "code",
   "execution_count": 11,
   "metadata": {},
   "outputs": [],
   "source": [
    "df.drop(['ccbasic','latitude'], axis = 1, inplace = True)\n",
    "\n",
    "hd2009 = pd.read_csv('./data/hd2009.csv',encoding='cp1252',\n",
    "                   usecols=['unitid','latitude','longitud','ccbasic'])\n",
    "hd2009.columns = hd2009.columns.str.lower()\n",
    "hd2009.head(2)\n",
    "\n",
    "df = df.merge(hd2009, how = 'left', on = 'unitid')"
   ]
  },
  {
   "cell_type": "markdown",
   "metadata": {},
   "source": [
    "Remove from the data set any institutions that belong to the following Carnegie Classifications or that awarded 50% or more of its degrees in religious professions:\n",
    "* Theological seminaries, Bible colleges, and other faith-related institutions\n",
    "* Medical schools and medical centers\n",
    "* Other health professions schools\n",
    "* Schools of engineering\n",
    "* Other technology-related schools\n",
    "* Schools of business and management\n",
    "* Schools of art, music, and design\n",
    "* Schools of law\n",
    "* Other special-focus institutions\n",
    "* Tribal Colleges"
   ]
  },
  {
   "cell_type": "code",
   "execution_count": 12,
   "metadata": {
    "scrolled": true
   },
   "outputs": [],
   "source": [
    "df = df[~df.ccbasic.isin([i for i in range(24,34)])]"
   ]
  },
  {
   "cell_type": "code",
   "execution_count": 13,
   "metadata": {},
   "outputs": [
    {
     "data": {
      "text/html": [
       "<div>\n",
       "<style scoped>\n",
       "    .dataframe tbody tr th:only-of-type {\n",
       "        vertical-align: middle;\n",
       "    }\n",
       "\n",
       "    .dataframe tbody tr th {\n",
       "        vertical-align: top;\n",
       "    }\n",
       "\n",
       "    .dataframe thead th {\n",
       "        text-align: right;\n",
       "    }\n",
       "</style>\n",
       "<table border=\"1\" class=\"dataframe\">\n",
       "  <thead>\n",
       "    <tr style=\"text-align: right;\">\n",
       "      <th></th>\n",
       "      <th>instnm</th>\n",
       "      <th>pcip39</th>\n",
       "    </tr>\n",
       "  </thead>\n",
       "  <tbody>\n",
       "    <tr>\n",
       "      <th>42</th>\n",
       "      <td>American Indian College Inc</td>\n",
       "      <td>0.6923</td>\n",
       "    </tr>\n",
       "    <tr>\n",
       "      <th>651</th>\n",
       "      <td>Barclay College</td>\n",
       "      <td>0.5882</td>\n",
       "    </tr>\n",
       "    <tr>\n",
       "      <th>1495</th>\n",
       "      <td>Tri-State Bible College</td>\n",
       "      <td>1.0000</td>\n",
       "    </tr>\n",
       "    <tr>\n",
       "      <th>1578</th>\n",
       "      <td>Clarks Summit University</td>\n",
       "      <td>0.9481</td>\n",
       "    </tr>\n",
       "    <tr>\n",
       "      <th>1609</th>\n",
       "      <td>Gratz College</td>\n",
       "      <td>1.0000</td>\n",
       "    </tr>\n",
       "  </tbody>\n",
       "</table>\n",
       "</div>"
      ],
      "text/plain": [
       "                           instnm  pcip39\n",
       "42    American Indian College Inc  0.6923\n",
       "651               Barclay College  0.5882\n",
       "1495      Tri-State Bible College  1.0000\n",
       "1578     Clarks Summit University  0.9481\n",
       "1609                Gratz College  1.0000"
      ]
     },
     "execution_count": 13,
     "metadata": {},
     "output_type": "execute_result"
    }
   ],
   "source": [
    "df[(df['pcip39'] >= .5)][['instnm','pcip39']].head()"
   ]
  },
  {
   "cell_type": "code",
   "execution_count": 14,
   "metadata": {},
   "outputs": [],
   "source": [
    "df = df[~(df['pcip39'] >= .5)]"
   ]
  },
  {
   "cell_type": "code",
   "execution_count": 15,
   "metadata": {},
   "outputs": [
    {
     "data": {
      "text/plain": [
       "(1770, 2990)"
      ]
     },
     "execution_count": 15,
     "metadata": {},
     "output_type": "execute_result"
    }
   ],
   "source": [
    "df.shape"
   ]
  },
  {
   "cell_type": "markdown",
   "metadata": {},
   "source": [
    "After applying these filters, the data set contains information on 1,770 institutions and close to 3000 features."
   ]
  },
  {
   "cell_type": "markdown",
   "metadata": {},
   "source": [
    "Access data from the `HERD` survey for fiscal year 2010. Based on the [HERD questionnaire documentation](https://www.nsf.gov/statistics/srvyherd/surveys/srvyherd_2010.pdf) keep only the total value of research and development expenditures using the `row` and `question` columns. The data for fiscal year 2010 was used in place of the data from fiscal year 2009 because it contains the `UNITID` identifier, which serves as a crosswalk to the College Scorecard data."
   ]
  },
  {
   "cell_type": "code",
   "execution_count": 16,
   "metadata": {},
   "outputs": [
    {
     "data": {
      "text/html": [
       "<div>\n",
       "<style scoped>\n",
       "    .dataframe tbody tr th:only-of-type {\n",
       "        vertical-align: middle;\n",
       "    }\n",
       "\n",
       "    .dataframe tbody tr th {\n",
       "        vertical-align: top;\n",
       "    }\n",
       "\n",
       "    .dataframe thead th {\n",
       "        text-align: right;\n",
       "    }\n",
       "</style>\n",
       "<table border=\"1\" class=\"dataframe\">\n",
       "  <thead>\n",
       "    <tr style=\"text-align: right;\">\n",
       "      <th></th>\n",
       "      <th>inst_id</th>\n",
       "      <th>year</th>\n",
       "      <th>ncses_inst_id</th>\n",
       "      <th>ipeds_unitid</th>\n",
       "      <th>hbcu_flag</th>\n",
       "      <th>med_sch_flag</th>\n",
       "      <th>hhe_flag</th>\n",
       "      <th>toi_code</th>\n",
       "      <th>hdg_code</th>\n",
       "      <th>toc_code</th>\n",
       "      <th>...</th>\n",
       "      <th>inst_zip</th>\n",
       "      <th>questionnaire_no</th>\n",
       "      <th>question</th>\n",
       "      <th>row</th>\n",
       "      <th>column</th>\n",
       "      <th>data</th>\n",
       "      <th>status</th>\n",
       "      <th>othinfo</th>\n",
       "      <th>othinfo_s</th>\n",
       "      <th>standardized_agency_names</th>\n",
       "    </tr>\n",
       "  </thead>\n",
       "  <tbody>\n",
       "    <tr>\n",
       "      <th>0</th>\n",
       "      <td>166</td>\n",
       "      <td>2010</td>\n",
       "      <td>U0626001</td>\n",
       "      <td>111966.0</td>\n",
       "      <td>0</td>\n",
       "      <td>T</td>\n",
       "      <td>1</td>\n",
       "      <td>1</td>\n",
       "      <td>2</td>\n",
       "      <td>2</td>\n",
       "      <td>...</td>\n",
       "      <td>90059</td>\n",
       "      <td>01.a</td>\n",
       "      <td>Source</td>\n",
       "      <td>Federal government</td>\n",
       "      <td>NaN</td>\n",
       "      <td>20430.0</td>\n",
       "      <td>NaN</td>\n",
       "      <td>NaN</td>\n",
       "      <td>NaN</td>\n",
       "      <td>NaN</td>\n",
       "    </tr>\n",
       "    <tr>\n",
       "      <th>1</th>\n",
       "      <td>166</td>\n",
       "      <td>2010</td>\n",
       "      <td>U0626001</td>\n",
       "      <td>111966.0</td>\n",
       "      <td>0</td>\n",
       "      <td>T</td>\n",
       "      <td>1</td>\n",
       "      <td>1</td>\n",
       "      <td>2</td>\n",
       "      <td>2</td>\n",
       "      <td>...</td>\n",
       "      <td>90059</td>\n",
       "      <td>01.e</td>\n",
       "      <td>Source</td>\n",
       "      <td>Institution funds</td>\n",
       "      <td>NaN</td>\n",
       "      <td>1722.0</td>\n",
       "      <td>NaN</td>\n",
       "      <td>NaN</td>\n",
       "      <td>NaN</td>\n",
       "      <td>NaN</td>\n",
       "    </tr>\n",
       "    <tr>\n",
       "      <th>2</th>\n",
       "      <td>166</td>\n",
       "      <td>2010</td>\n",
       "      <td>U0626001</td>\n",
       "      <td>111966.0</td>\n",
       "      <td>0</td>\n",
       "      <td>T</td>\n",
       "      <td>1</td>\n",
       "      <td>1</td>\n",
       "      <td>2</td>\n",
       "      <td>2</td>\n",
       "      <td>...</td>\n",
       "      <td>90059</td>\n",
       "      <td>01.g</td>\n",
       "      <td>Source</td>\n",
       "      <td>Total</td>\n",
       "      <td>NaN</td>\n",
       "      <td>22152.0</td>\n",
       "      <td>NaN</td>\n",
       "      <td>NaN</td>\n",
       "      <td>NaN</td>\n",
       "      <td>NaN</td>\n",
       "    </tr>\n",
       "  </tbody>\n",
       "</table>\n",
       "<p>3 rows × 23 columns</p>\n",
       "</div>"
      ],
      "text/plain": [
       "   inst_id  year ncses_inst_id  ipeds_unitid  hbcu_flag med_sch_flag  \\\n",
       "0      166  2010      U0626001      111966.0          0            T   \n",
       "1      166  2010      U0626001      111966.0          0            T   \n",
       "2      166  2010      U0626001      111966.0          0            T   \n",
       "\n",
       "   hhe_flag  toi_code  hdg_code  toc_code  ... inst_zip questionnaire_no  \\\n",
       "0         1         1         2         2  ...    90059             01.a   \n",
       "1         1         1         2         2  ...    90059             01.e   \n",
       "2         1         1         2         2  ...    90059             01.g   \n",
       "\n",
       "  question                 row column     data status othinfo  othinfo_s  \\\n",
       "0   Source  Federal government    NaN  20430.0    NaN     NaN        NaN   \n",
       "1   Source   Institution funds    NaN   1722.0    NaN     NaN        NaN   \n",
       "2   Source               Total    NaN  22152.0    NaN     NaN        NaN   \n",
       "\n",
       "  standardized_agency_names  \n",
       "0                       NaN  \n",
       "1                       NaN  \n",
       "2                       NaN  \n",
       "\n",
       "[3 rows x 23 columns]"
      ]
     },
     "execution_count": 16,
     "metadata": {},
     "output_type": "execute_result"
    }
   ],
   "source": [
    "herd_10 = pd.read_csv('./data/herd_2010.csv', encoding='cp1252', low_memory = False)\n",
    "herd_10.columns = herd_10.columns.str.lower()\n",
    "herd_10.head(3)"
   ]
  },
  {
   "cell_type": "code",
   "execution_count": 17,
   "metadata": {},
   "outputs": [
    {
     "data": {
      "text/html": [
       "<div>\n",
       "<style scoped>\n",
       "    .dataframe tbody tr th:only-of-type {\n",
       "        vertical-align: middle;\n",
       "    }\n",
       "\n",
       "    .dataframe tbody tr th {\n",
       "        vertical-align: top;\n",
       "    }\n",
       "\n",
       "    .dataframe thead th {\n",
       "        text-align: right;\n",
       "    }\n",
       "</style>\n",
       "<table border=\"1\" class=\"dataframe\">\n",
       "  <thead>\n",
       "    <tr style=\"text-align: right;\">\n",
       "      <th></th>\n",
       "      <th>inst_id</th>\n",
       "      <th>year</th>\n",
       "      <th>ncses_inst_id</th>\n",
       "      <th>ipeds_unitid</th>\n",
       "      <th>hbcu_flag</th>\n",
       "      <th>med_sch_flag</th>\n",
       "      <th>hhe_flag</th>\n",
       "      <th>toi_code</th>\n",
       "      <th>hdg_code</th>\n",
       "      <th>toc_code</th>\n",
       "      <th>...</th>\n",
       "      <th>inst_zip</th>\n",
       "      <th>questionnaire_no</th>\n",
       "      <th>question</th>\n",
       "      <th>row</th>\n",
       "      <th>column</th>\n",
       "      <th>data</th>\n",
       "      <th>status</th>\n",
       "      <th>othinfo</th>\n",
       "      <th>othinfo_s</th>\n",
       "      <th>standardized_agency_names</th>\n",
       "    </tr>\n",
       "  </thead>\n",
       "  <tbody>\n",
       "    <tr>\n",
       "      <th>2</th>\n",
       "      <td>166</td>\n",
       "      <td>2010</td>\n",
       "      <td>U0626001</td>\n",
       "      <td>111966.0</td>\n",
       "      <td>0</td>\n",
       "      <td>T</td>\n",
       "      <td>1</td>\n",
       "      <td>1</td>\n",
       "      <td>2</td>\n",
       "      <td>2</td>\n",
       "      <td>...</td>\n",
       "      <td>90059</td>\n",
       "      <td>01.g</td>\n",
       "      <td>Source</td>\n",
       "      <td>Total</td>\n",
       "      <td>NaN</td>\n",
       "      <td>22152.0</td>\n",
       "      <td>NaN</td>\n",
       "      <td>NaN</td>\n",
       "      <td>NaN</td>\n",
       "      <td>NaN</td>\n",
       "    </tr>\n",
       "    <tr>\n",
       "      <th>100</th>\n",
       "      <td>1002</td>\n",
       "      <td>2010</td>\n",
       "      <td>U0047001</td>\n",
       "      <td>100654.0</td>\n",
       "      <td>1</td>\n",
       "      <td>F</td>\n",
       "      <td>0</td>\n",
       "      <td>1</td>\n",
       "      <td>1</td>\n",
       "      <td>1</td>\n",
       "      <td>...</td>\n",
       "      <td>35762</td>\n",
       "      <td>01.g</td>\n",
       "      <td>Source</td>\n",
       "      <td>Total</td>\n",
       "      <td>NaN</td>\n",
       "      <td>30497.0</td>\n",
       "      <td>NaN</td>\n",
       "      <td>NaN</td>\n",
       "      <td>NaN</td>\n",
       "      <td>NaN</td>\n",
       "    </tr>\n",
       "    <tr>\n",
       "      <th>365</th>\n",
       "      <td>1005</td>\n",
       "      <td>2010</td>\n",
       "      <td>U0049001</td>\n",
       "      <td>100724.0</td>\n",
       "      <td>1</td>\n",
       "      <td>F</td>\n",
       "      <td>0</td>\n",
       "      <td>1</td>\n",
       "      <td>1</td>\n",
       "      <td>1</td>\n",
       "      <td>...</td>\n",
       "      <td>36101</td>\n",
       "      <td>01.g</td>\n",
       "      <td>Source</td>\n",
       "      <td>Total</td>\n",
       "      <td>NaN</td>\n",
       "      <td>13340.0</td>\n",
       "      <td>NaN</td>\n",
       "      <td>NaN</td>\n",
       "      <td>NaN</td>\n",
       "      <td>NaN</td>\n",
       "    </tr>\n",
       "    <tr>\n",
       "      <th>421</th>\n",
       "      <td>1009</td>\n",
       "      <td>2010</td>\n",
       "      <td>U0323002</td>\n",
       "      <td>100858.0</td>\n",
       "      <td>0</td>\n",
       "      <td>F</td>\n",
       "      <td>0</td>\n",
       "      <td>1</td>\n",
       "      <td>1</td>\n",
       "      <td>1</td>\n",
       "      <td>...</td>\n",
       "      <td>36849</td>\n",
       "      <td>01.g</td>\n",
       "      <td>Source</td>\n",
       "      <td>Total</td>\n",
       "      <td>NaN</td>\n",
       "      <td>145115.0</td>\n",
       "      <td>NaN</td>\n",
       "      <td>NaN</td>\n",
       "      <td>NaN</td>\n",
       "      <td>NaN</td>\n",
       "    </tr>\n",
       "    <tr>\n",
       "      <th>1024</th>\n",
       "      <td>1020</td>\n",
       "      <td>2010</td>\n",
       "      <td>U1533001</td>\n",
       "      <td>101480.0</td>\n",
       "      <td>0</td>\n",
       "      <td>F</td>\n",
       "      <td>0</td>\n",
       "      <td>1</td>\n",
       "      <td>2</td>\n",
       "      <td>1</td>\n",
       "      <td>...</td>\n",
       "      <td>36265</td>\n",
       "      <td>01.g</td>\n",
       "      <td>Source</td>\n",
       "      <td>Total</td>\n",
       "      <td>NaN</td>\n",
       "      <td>398.0</td>\n",
       "      <td>NaN</td>\n",
       "      <td>NaN</td>\n",
       "      <td>NaN</td>\n",
       "      <td>NaN</td>\n",
       "    </tr>\n",
       "  </tbody>\n",
       "</table>\n",
       "<p>5 rows × 23 columns</p>\n",
       "</div>"
      ],
      "text/plain": [
       "      inst_id  year ncses_inst_id  ipeds_unitid  hbcu_flag med_sch_flag  \\\n",
       "2         166  2010      U0626001      111966.0          0            T   \n",
       "100      1002  2010      U0047001      100654.0          1            F   \n",
       "365      1005  2010      U0049001      100724.0          1            F   \n",
       "421      1009  2010      U0323002      100858.0          0            F   \n",
       "1024     1020  2010      U1533001      101480.0          0            F   \n",
       "\n",
       "      hhe_flag  toi_code  hdg_code  toc_code  ... inst_zip questionnaire_no  \\\n",
       "2            1         1         2         2  ...    90059             01.g   \n",
       "100          0         1         1         1  ...    35762             01.g   \n",
       "365          0         1         1         1  ...    36101             01.g   \n",
       "421          0         1         1         1  ...    36849             01.g   \n",
       "1024         0         1         2         1  ...    36265             01.g   \n",
       "\n",
       "     question    row column      data status othinfo  othinfo_s  \\\n",
       "2      Source  Total    NaN   22152.0    NaN     NaN        NaN   \n",
       "100    Source  Total    NaN   30497.0    NaN     NaN        NaN   \n",
       "365    Source  Total    NaN   13340.0    NaN     NaN        NaN   \n",
       "421    Source  Total    NaN  145115.0    NaN     NaN        NaN   \n",
       "1024   Source  Total    NaN     398.0    NaN     NaN        NaN   \n",
       "\n",
       "     standardized_agency_names  \n",
       "2                          NaN  \n",
       "100                        NaN  \n",
       "365                        NaN  \n",
       "421                        NaN  \n",
       "1024                       NaN  \n",
       "\n",
       "[5 rows x 23 columns]"
      ]
     },
     "execution_count": 17,
     "metadata": {},
     "output_type": "execute_result"
    }
   ],
   "source": [
    "herd_10 = herd_10[(herd_10.row == 'Total') & (herd_10.question == 'Source')]\n",
    "herd_10.head()"
   ]
  },
  {
   "cell_type": "code",
   "execution_count": 18,
   "metadata": {},
   "outputs": [
    {
     "data": {
      "text/plain": [
       "ncses_inst_id                  8\n",
       "ipeds_unitid                  29\n",
       "inst_zip                       1\n",
       "column                       744\n",
       "status                       729\n",
       "othinfo                      744\n",
       "othinfo_s                    744\n",
       "standardized_agency_names    744\n",
       "dtype: int64"
      ]
     },
     "execution_count": 18,
     "metadata": {},
     "output_type": "execute_result"
    }
   ],
   "source": [
    "herd_10.isnull().sum()[herd_10.isnull().sum()>0]"
   ]
  },
  {
   "cell_type": "markdown",
   "metadata": {},
   "source": [
    "Twenty-nine institutions do not have an `ipeds_unitid` or the common identifier needed to merge the data with the main data set. Using [College Navigator](https://nces.ed.gov/collegenavigator/), find the `ipeds_unitid's` for these institutions. Drop institutions whose `ipeds_unitid's` could not be found."
   ]
  },
  {
   "cell_type": "code",
   "execution_count": 19,
   "metadata": {},
   "outputs": [],
   "source": [
    "unitid_updates = {'Arizona State University':104151,\n",
    "                  'Embry-Riddle Aeronautical University': 133553,\n",
    "                  'Midwestern University (Downers Grove, IL)':143853,\n",
    "                  'University of New Hampshire':183044,\n",
    "                  'Oregon State University':209542,\n",
    "                  'University of Connecticut':129020,\n",
    "                  'Fairleigh Dickinson University':184603,\n",
    "                  'Long Island University':192448,\n",
    "                  'Bowling Green State University':201441,\n",
    "                  'Kent State University':203517,\n",
    "                  'Miami University':204024,\n",
    "                  'Ohio State University':204796,\n",
    "                  'Ohio University':204857,\n",
    "                  'University of Cincinnati':201885,\n",
    "                  'University of Oklahoma':207500,\n",
    "                  'Wright State University':206604,\n",
    "                  'University of Akron':200800,\n",
    "                  'Johns Hopkins University':162928,\n",
    "                  'Touro University-California':459736,\n",
    "                  'University of Mississippi':176017,\n",
    "                  'William & Mary':231624,\n",
    "                  'Western Michigan University and Homer Stryker M.D. School of Medicine':490373,\n",
    "                  'Oklahoma State University Tulsa':207315}"
   ]
  },
  {
   "cell_type": "code",
   "execution_count": 20,
   "metadata": {},
   "outputs": [],
   "source": [
    "for key,value in unitid_updates.items():\n",
    "    herd_10.loc[herd_10.inst_name_long == key,'ipeds_unitid'] = value"
   ]
  },
  {
   "cell_type": "code",
   "execution_count": 21,
   "metadata": {},
   "outputs": [],
   "source": [
    "herd_10.dropna(subset=['ipeds_unitid'],inplace=True)\n",
    "herd_10.rename(columns={'ipeds_unitid':'unitid', 'data':'rd_exp', 'inst_name_long':'institution_name'},\n",
    "               inplace=True)"
   ]
  },
  {
   "cell_type": "code",
   "execution_count": 22,
   "metadata": {},
   "outputs": [],
   "source": [
    "herd_10 = herd_10[['unitid','institution_name','rd_exp']]"
   ]
  },
  {
   "cell_type": "code",
   "execution_count": 23,
   "metadata": {},
   "outputs": [],
   "source": [
    "df = df.merge(herd_10, how = 'left', on = 'unitid')"
   ]
  },
  {
   "cell_type": "markdown",
   "metadata": {},
   "source": [
    "Ingest and merge data from IPEDS. These data include:\n",
    "* Student-faculty ratios and total enrollment"
   ]
  },
  {
   "cell_type": "code",
   "execution_count": 24,
   "metadata": {},
   "outputs": [],
   "source": [
    "ef2009d = pd.read_csv('./data/ef2009d.csv')\n",
    "ef2009d.columns = ef2009d.columns.str.lower()\n",
    "\n",
    "ef2009d.rename(columns={'stufacr ':'stufacr'}, inplace = True)\n",
    "\n",
    "ef2009d = ef2009d[['unitid','stufacr']]"
   ]
  },
  {
   "cell_type": "code",
   "execution_count": 25,
   "metadata": {},
   "outputs": [],
   "source": [
    "df = df.merge(ef2009d, how = 'left', on = 'unitid')"
   ]
  },
  {
   "cell_type": "markdown",
   "metadata": {},
   "source": [
    "### Clean the resulting data set"
   ]
  },
  {
   "cell_type": "markdown",
   "metadata": {},
   "source": [
    "Replace values of `PrivacySuppressed` with `NaN` and convert numeric type features to float type."
   ]
  },
  {
   "cell_type": "code",
   "execution_count": 26,
   "metadata": {},
   "outputs": [],
   "source": [
    "for col in [col for col in df.columns if df[col].dtypes == 'O']:\n",
    "    df.loc[df[col]=='PrivacySuppressed', col] = np.nan\n",
    "    \n",
    "    try:\n",
    "        df[col] = df[col].astype(float)\n",
    "    except:\n",
    "        pass"
   ]
  },
  {
   "cell_type": "markdown",
   "metadata": {},
   "source": [
    "The features below are expected to be of string type. The data type conversion was performed successfully."
   ]
  },
  {
   "cell_type": "code",
   "execution_count": 27,
   "metadata": {},
   "outputs": [
    {
     "data": {
      "text/plain": [
       "['opeid',\n",
       " 'instnm',\n",
       " 'city',\n",
       " 'stabbr',\n",
       " 'zip',\n",
       " 'repay_dt_mdn',\n",
       " 'separ_dt_mdn',\n",
       " 'alias',\n",
       " 'ciptitle1',\n",
       " 'ciptitle2',\n",
       " 'ciptitle3',\n",
       " 'ciptitle4',\n",
       " 'ciptitle5',\n",
       " 'ciptitle6',\n",
       " 'institution_name']"
      ]
     },
     "execution_count": 27,
     "metadata": {},
     "output_type": "execute_result"
    }
   ],
   "source": [
    "[col for col in df.columns if df[col].dtypes == 'O']"
   ]
  },
  {
   "cell_type": "markdown",
   "metadata": {},
   "source": [
    "#### Merge the data set with additional attributes obtained through webscrapping"
   ]
  },
  {
   "cell_type": "code",
   "execution_count": 28,
   "metadata": {},
   "outputs": [],
   "source": [
    "sqlite_db = './data/webscrapping_profile_feats.sqlite'\n",
    "conn = sqlite3.connect(sqlite_db)"
   ]
  },
  {
   "cell_type": "code",
   "execution_count": 29,
   "metadata": {},
   "outputs": [],
   "source": [
    "sql = \"\"\"\n",
    "SELECT *\n",
    "FROM niche_webscrapping\n",
    "\"\"\"\n",
    "\n",
    "webscrapping = pd.read_sql(sql, con = conn)"
   ]
  },
  {
   "cell_type": "code",
   "execution_count": 30,
   "metadata": {},
   "outputs": [],
   "source": [
    "df = df.merge(webscrapping, how = 'left', on = 'instnm', indicator = True)"
   ]
  },
  {
   "cell_type": "markdown",
   "metadata": {},
   "source": [
    "Remove any institutions that do not have the median earnings and two-cohort default rate features. These cases represent aroudn 3% of all institutions."
   ]
  },
  {
   "cell_type": "code",
   "execution_count": 31,
   "metadata": {
    "scrolled": false
   },
   "outputs": [
    {
     "data": {
      "text/plain": [
       "47"
      ]
     },
     "execution_count": 31,
     "metadata": {},
     "output_type": "execute_result"
    }
   ],
   "source": [
    "df[df.md_earn_wne_p6.isnull()].shape[0]"
   ]
  },
  {
   "cell_type": "code",
   "execution_count": 32,
   "metadata": {},
   "outputs": [],
   "source": [
    "df = df[~df.md_earn_wne_p6.isnull()]"
   ]
  },
  {
   "cell_type": "markdown",
   "metadata": {},
   "source": [
    "The final data set includes 1,723 institutions and 1575 features. This number of institutions is comparable to the [U.S. News & World Report's](https://www.usnews.com/best-colleges/search) 1,870 ranked institutions in the Best Colleges ranking. This means that the 1723 institutions reflect a plausible universe of institutions to include in the analysis."
   ]
  },
  {
   "cell_type": "code",
   "execution_count": 33,
   "metadata": {},
   "outputs": [],
   "source": [
    "df.drop(columns=list(df.isnull().sum()[df.isnull().sum()==df.shape[0]].index),inplace=True)"
   ]
  },
  {
   "cell_type": "code",
   "execution_count": 34,
   "metadata": {},
   "outputs": [
    {
     "data": {
      "text/plain": [
       "(1723, 1575)"
      ]
     },
     "execution_count": 34,
     "metadata": {},
     "output_type": "execute_result"
    }
   ],
   "source": [
    "df.shape"
   ]
  },
  {
   "cell_type": "code",
   "execution_count": 35,
   "metadata": {},
   "outputs": [
    {
     "data": {
      "text/plain": [
       "md_earn_wne_p6    0\n",
       "dtype: int64"
      ]
     },
     "execution_count": 35,
     "metadata": {},
     "output_type": "execute_result"
    }
   ],
   "source": [
    "df[['md_earn_wne_p6']].isnull().sum()"
   ]
  },
  {
   "cell_type": "code",
   "execution_count": 36,
   "metadata": {},
   "outputs": [
    {
     "data": {
      "image/png": "[encoded data removed]",
      "text/plain": [
       "<Figure size 1008x504 with 1 Axes>"
      ]
     },
     "metadata": {
      "needs_background": "light"
     },
     "output_type": "display_data"
    }
   ],
   "source": [
    "plt.figure(figsize = (14,7))\n",
    "sns.histplot(data = df, x = 'md_earn_wne_p6')\n",
    "plt.xlabel('Median earnings post graduation', fontsize = 14)\n",
    "plt.ylabel('Number of institutions', fontsize = 14)\n",
    "\n",
    "plt.title('Distribution of median earnings post graduation and two-year cohort default rate',size = 15);"
   ]
  },
  {
   "cell_type": "markdown",
   "metadata": {},
   "source": [
    "There is a significant amount of variability in the median earnings post graduation. This feature appears to follow a roughly normal distribution with a long right tail, representing institutions with higher median earnings compared to the median and mean earnings values. There is enough variance in the data to make modeling these features a viable option."
   ]
  },
  {
   "cell_type": "markdown",
   "metadata": {},
   "source": [
    "The following features have a strong Pearson correlation with the median earnings feature (`md_earn_wne_p6`), signaling that the data set contains features that may serve as predictors of this target.\n",
    "\n",
    "* Share of students earning over 25,000/year (threshold earnings)\n",
    "* 90th percentile of earnings of students working and not enrolled 6 years after entry\n",
    "* Dependent students with family incomes between 110,001+ in nominal dollars\n",
    "* One-year repayment rate for dependent students\n",
    "* Share of students who received a Pell Grant while in school\n",
    "* Percent of students whose parents' highest educational level is high school\n",
    "* Average family income in real 2015 dollars\n",
    "* Midpoint of SAT scores at the institution (math)"
   ]
  },
  {
   "cell_type": "code",
   "execution_count": 37,
   "metadata": {},
   "outputs": [
    {
     "data": {
      "text/html": [
       "<div>\n",
       "<style scoped>\n",
       "    .dataframe tbody tr th:only-of-type {\n",
       "        vertical-align: middle;\n",
       "    }\n",
       "\n",
       "    .dataframe tbody tr th {\n",
       "        vertical-align: top;\n",
       "    }\n",
       "\n",
       "    .dataframe thead th {\n",
       "        text-align: right;\n",
       "    }\n",
       "</style>\n",
       "<table border=\"1\" class=\"dataframe\">\n",
       "  <thead>\n",
       "    <tr style=\"text-align: right;\">\n",
       "      <th></th>\n",
       "      <th>md_earn_wne_p6</th>\n",
       "    </tr>\n",
       "  </thead>\n",
       "  <tbody>\n",
       "    <tr>\n",
       "      <th>dep_rpy_1yr_rt</th>\n",
       "      <td>0.690419</td>\n",
       "    </tr>\n",
       "    <tr>\n",
       "      <th>pell_ever</th>\n",
       "      <td>-0.665640</td>\n",
       "    </tr>\n",
       "    <tr>\n",
       "      <th>par_ed_pct_hs</th>\n",
       "      <td>-0.667113</td>\n",
       "    </tr>\n",
       "    <tr>\n",
       "      <th>faminc</th>\n",
       "      <td>0.610561</td>\n",
       "    </tr>\n",
       "    <tr>\n",
       "      <th>satmtmid</th>\n",
       "      <td>0.630571</td>\n",
       "    </tr>\n",
       "    <tr>\n",
       "      <th>md_earn_wne_p6</th>\n",
       "      <td>1.000000</td>\n",
       "    </tr>\n",
       "  </tbody>\n",
       "</table>\n",
       "</div>"
      ],
      "text/plain": [
       "                md_earn_wne_p6\n",
       "dep_rpy_1yr_rt        0.690419\n",
       "pell_ever            -0.665640\n",
       "par_ed_pct_hs        -0.667113\n",
       "faminc                0.610561\n",
       "satmtmid              0.630571\n",
       "md_earn_wne_p6        1.000000"
      ]
     },
     "execution_count": 37,
     "metadata": {},
     "output_type": "execute_result"
    }
   ],
   "source": [
    "df[['dep_rpy_1yr_rt','pell_ever','par_ed_pct_hs','faminc','satmtmid','md_earn_wne_p6']].corr()[['md_earn_wne_p6']]"
   ]
  },
  {
   "cell_type": "markdown",
   "metadata": {},
   "source": [
    "There appears to be a moderate and negative relationship between the Niche ranking and median earnings. The higher the ranking (closer to 1, in the sense of a ranking), the higher the median earnings appear to be for some of the schools in the data set."
   ]
  },
  {
   "cell_type": "code",
   "execution_count": 38,
   "metadata": {},
   "outputs": [],
   "source": [
    "df['ranks'] = [str(rank).split(' ')[0].replace('#','') for rank in df.ranks]"
   ]
  },
  {
   "cell_type": "code",
   "execution_count": 39,
   "metadata": {},
   "outputs": [
    {
     "data": {
      "image/png": "[encoded data removed]",
      "text/plain": [
       "<Figure size 1008x504 with 1 Axes>"
      ]
     },
     "metadata": {
      "needs_background": "light"
     },
     "output_type": "display_data"
    }
   ],
   "source": [
    "plt.figure(figsize=(14,7))\n",
    "sns.set_theme()\n",
    "plot = sns.regplot(x=df[df['ranks'] != 'nan']['ranks'].astype(int),y=df[df['ranks'] != 'nan']['md_earn_wne_p6'])\n",
    "formatter = ticker.FormatStrFormatter('$%1.0f')\n",
    "plot.yaxis.set_major_formatter(formatter)\n",
    "plt.xlabel('Niche ranking', size=18)\n",
    "plt.ylabel('Median earnings post graduation')\n",
    "plt.title('Relationship between median earnings six-year post graduation and Niche ranking', size=20);"
   ]
  },
  {
   "cell_type": "markdown",
   "metadata": {},
   "source": [
    "Through the EDA process, consider features used in the Niche ranking calculations, including:\n",
    "* Admission rates\n",
    "* Average loan amounts\n",
    "* Student to faculty ratios"
   ]
  },
  {
   "cell_type": "markdown",
   "metadata": {},
   "source": [
    "The following is a data dictionary of features contained in this data set that will be used in the EDA step:\n",
    "\n",
    "| Feature Name | Description |\n",
    "|:---|:---|\n",
    "| gt_25k_p6 | Share of students earning over 25,000/year |\n",
    "| pct90_earn_wne_p6 | 90th percentile of earnings of students working and not enrolled 6 years after entry |\n",
    "| dep_inc_pct_h2 | Dependent students with family incomes between 110,001+ in nominal dollars |\n",
    "| dep_rpy_1yr_rt | One-year repayment rate for dependent students |\n",
    "| pell_ever | Share of students who received a Pell Grant while in school |\n",
    "| par_ed_pct_hs | Percent of students whose parents' highest educational level is high school |\n",
    "| faminc | Average family income in real 2015 dollars |\n",
    "| satmtmid | Midpoint of SAT scores at the institution (math) |\n",
    "| dep_inc_pct_lo | Percentage of students who are financially dependent and have family incomes between 0-30,000 |\n",
    "| inc_pct_lo | Percentage of aided students whose family income is between 0-30,000 |\n",
    "| ftftpctpell | Percentage of full-time, first-time degree/certificate-seeking undergraduate students awarded a Pell Grant |\n",
    "| rpy_1yr_rt | Fraction of repayment cohort who are not in default, and with loan balances that have declined one year since entering repayment |\n",
    "| md_earn_wne_p6 | Median earnings six years post graduation |\n",
    "| cdr2 | Two-year cohort default rate |"
   ]
  },
  {
   "cell_type": "markdown",
   "metadata": {},
   "source": [
    "Store the result in a database."
   ]
  },
  {
   "cell_type": "code",
   "execution_count": 40,
   "metadata": {},
   "outputs": [],
   "source": [
    "sqlite_db = './data/analysis_data_set.sqlite'\n",
    "conn = sqlite3.connect(sqlite_db)"
   ]
  },
  {
   "cell_type": "code",
   "execution_count": 41,
   "metadata": {},
   "outputs": [],
   "source": [
    "df.to_sql('analysis_data_set',\n",
    "            con=conn,\n",
    "            if_exists='replace',\n",
    "            index=False)"
   ]
  }
 ],
 "metadata": {
  "kernelspec": {
   "display_name": "Python 3",
   "language": "python",
   "name": "python3"
  },
  "language_info": {
   "codemirror_mode": {
    "name": "ipython",
    "version": 3
   },
   "file_extension": ".py",
   "mimetype": "text/x-python",
   "name": "python",
   "nbconvert_exporter": "python",
   "pygments_lexer": "ipython3",
   "version": "3.7.4"
  }
 },
 "nbformat": 4,
 "nbformat_minor": 2
}
